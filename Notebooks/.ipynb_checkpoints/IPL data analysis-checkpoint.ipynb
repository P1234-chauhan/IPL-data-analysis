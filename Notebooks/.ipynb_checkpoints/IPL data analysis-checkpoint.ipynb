{
 "cells": [
  {
   "cell_type": "code",
   "execution_count": 1,
   "id": "4fda3f33-7e91-4d96-bf00-63cb4fc8b6ce",
   "metadata": {},
   "outputs": [],
   "source": [
    "#  importing essential libraries\n",
    "import pandas as pd\n",
    "import numpy as np\n",
    "import matplotlib.pyplot as plt\n",
    "import seaborn as sns"
   ]
  },
  {
   "cell_type": "code",
   "execution_count": 2,
   "id": "cf3f3e82-c906-4b86-8796-cd57aa63481d",
   "metadata": {},
   "outputs": [],
   "source": [
    "batsmen = pd.read_csv('../Data/Batsman_info.csv')\n"
   ]
  },
  {
   "cell_type": "code",
   "execution_count": 3,
   "id": "5fa16f96-f2f7-4488-bcd3-b97381f010b2",
   "metadata": {},
   "outputs": [],
   "source": [
    "batting = pd.read_csv('../Data/ipl_batting.csv')"
   ]
  },
  {
   "cell_type": "code",
   "execution_count": 4,
   "id": "6980b5b1-68b0-42fe-8761-3b5751136d12",
   "metadata": {},
   "outputs": [],
   "source": [
    "deliveries = pd.read_csv('../Data/ipl_deliveries.csv')"
   ]
  },
  {
   "cell_type": "code",
   "execution_count": 5,
   "id": "3b973e91-036c-49f1-a79d-5d900561a751",
   "metadata": {},
   "outputs": [],
   "source": [
    "matches = pd.read_csv('../Data/ipl_matches.csv')"
   ]
  },
  {
   "cell_type": "code",
   "execution_count": 6,
   "id": "1ab227da-0499-49b0-b34e-581fbaf0f797",
   "metadata": {},
   "outputs": [],
   "source": [
    "team = pd.read_csv('../Data/team_info.csv')"
   ]
  },
  {
   "cell_type": "code",
   "execution_count": 7,
   "id": "67a723b3-990d-4c44-88b8-3eafdbbaee01",
   "metadata": {},
   "outputs": [
    {
     "ename": "NameError",
     "evalue": "name 'batsman' is not defined",
     "output_type": "error",
     "traceback": [
      "\u001b[1;31m---------------------------------------------------------------------------\u001b[0m",
      "\u001b[1;31mNameError\u001b[0m                                 Traceback (most recent call last)",
      "Cell \u001b[1;32mIn[7], line 1\u001b[0m\n\u001b[1;32m----> 1\u001b[0m \u001b[43mbatsman\u001b[49m\n",
      "\u001b[1;31mNameError\u001b[0m: name 'batsman' is not defined"
     ]
    }
   ],
   "source": [
    "batsmen"
   ]
  },
  {
   "cell_type": "code",
   "execution_count": null,
   "id": "7700252b-c8bf-42ef-973a-4fbaccd6372e",
   "metadata": {},
   "outputs": [],
   "source": [
    "matches.dtypes"
   ]
  },
  {
   "cell_type": "code",
   "execution_count": null,
   "id": "9d8ce667-7634-4dd7-b8ac-635abed738bc",
   "metadata": {},
   "outputs": [],
   "source": [
    "#  granularity - match date,team 1 ,team 2, ground and winner"
   ]
  },
  {
   "cell_type": "code",
   "execution_count": null,
   "id": "af99fde6-2836-4377-8a71-dd969260b7cf",
   "metadata": {},
   "outputs": [],
   "source": [
    "date = matches.match_date \n",
    "key=[]\n",
    "visited =[]\n",
    "for i in date:\n",
    "     if i in visited:\n",
    "         number = visited.count(i)\n",
    "         temp = i.split('-')\n",
    "         temp1 = temp[0]+temp[1]+temp[2]+'0'+str(number+1)\n",
    "         visited.append(i)\n",
    "         key.append(temp1)\n",
    "     else:\n",
    "         temp=i.split('-')\n",
    "         temp1 = temp[0]+temp[1]+temp[2]+'01'\n",
    "         key.append(temp1)\n",
    "         visited.append(i)"
   ]
  },
  {
   "cell_type": "code",
   "execution_count": null,
   "id": "dbcd49cf-301c-4079-8fce-9373da97801a",
   "metadata": {},
   "outputs": [],
   "source": [
    "matches['match_key']=key\n",
    "matches"
   ]
  },
  {
   "cell_type": "code",
   "execution_count": null,
   "id": "8bc8fbb3-e087-4706-8a05-c6b4640049ca",
   "metadata": {},
   "outputs": [],
   "source": [
    "matches['Team 1'].unique()"
   ]
  },
  {
   "cell_type": "code",
   "execution_count": null,
   "id": "661acfdd-3700-418e-b95d-ac4a0d7b2da6",
   "metadata": {},
   "outputs": [],
   "source": [
    "matches['Team 2'].unique()"
   ]
  },
  {
   "cell_type": "code",
   "execution_count": null,
   "id": "093e3af4-3193-496a-afcd-111f1181c858",
   "metadata": {},
   "outputs": [],
   "source": [
    "matches['toss_winner'].unique()"
   ]
  },
  {
   "cell_type": "code",
   "execution_count": null,
   "id": "c60f43ac-a258-4cdd-a874-d1f71b65efd1",
   "metadata": {},
   "outputs": [],
   "source": [
    "matches['toss_winner'].replace(to_replace='Rising Pune Supergiants',\n",
    "                               value='Rising Pune Supergiant',inplace=True)"
   ]
  },
  {
   "cell_type": "code",
   "execution_count": null,
   "id": "07205d02-a529-4e4f-a208-e0f8d31742f9",
   "metadata": {
    "scrolled": true
   },
   "outputs": [],
   "source": [
    "matches['toss_winner'].unique()"
   ]
  },
  {
   "cell_type": "code",
   "execution_count": null,
   "id": "f4567131-d0aa-415d-976f-4eeda686da62",
   "metadata": {},
   "outputs": [],
   "source": [
    "team_1 = matches['Team 1'].groupby(matches['Team 1']).agg('count')\n",
    "team_1"
   ]
  },
  {
   "cell_type": "code",
   "execution_count": null,
   "id": "6587679f-d59b-4d79-8952-e182cec09bb8",
   "metadata": {},
   "outputs": [],
   "source": [
    "team_2 = matches['Team 2'].groupby(matches['Team 2']).agg('count')\n",
    "team_2"
   ]
  },
  {
   "cell_type": "code",
   "execution_count": null,
   "id": "521a252c-709a-4e57-abd3-dcd8282183f5",
   "metadata": {},
   "outputs": [],
   "source": [
    "total_matches = team_1+team_2"
   ]
  },
  {
   "cell_type": "code",
   "execution_count": null,
   "id": "c7bd7bf7-b25c-4515-9b61-6cddbffb5525",
   "metadata": {},
   "outputs": [],
   "source": [
    "total_matches"
   ]
  },
  {
   "cell_type": "code",
   "execution_count": null,
   "id": "1e75765b-3d38-4dd5-863e-72df60050265",
   "metadata": {},
   "outputs": [],
   "source": [
    "toss_winner = matches['toss_winner'].groupby(matches['toss_winner']).agg('count')"
   ]
  },
  {
   "cell_type": "code",
   "execution_count": null,
   "id": "0960c464-2edc-4e86-9722-59fa1f1df5f5",
   "metadata": {},
   "outputs": [],
   "source": [
    "toss_winner"
   ]
  },
  {
   "cell_type": "code",
   "execution_count": null,
   "id": "464bbfcb-f93f-4cb2-896a-e0eaf264fe94",
   "metadata": {},
   "outputs": [],
   "source": [
    "percentage = (toss_winner/total_matches )* 100\n",
    "percentage"
   ]
  },
  {
   "cell_type": "code",
   "execution_count": null,
   "id": "20470845-385d-4eb3-9c69-3a1d062e0621",
   "metadata": {},
   "outputs": [],
   "source": [
    "match_winner = matches['Winner'].groupby(matches['Winner']).agg('count')\n",
    "match_winner"
   ]
  },
  {
   "cell_type": "code",
   "execution_count": null,
   "id": "78974446-b017-4cf5-91dd-0225f4cee0df",
   "metadata": {},
   "outputs": [],
   "source": [
    "toss_match_winner = matches['Team 1'].groupby([matches['Winner'],\n",
    "                                              matches['toss_winner']]).agg('count')"
   ]
  },
  {
   "cell_type": "code",
   "execution_count": null,
   "id": "5fb04eef-6b4b-4038-8386-30d059c73dc4",
   "metadata": {},
   "outputs": [],
   "source": [
    "# toss match winner\n",
    "temp = toss_match_winner.reset_index()"
   ]
  },
  {
   "cell_type": "code",
   "execution_count": null,
   "id": "1412766e-bc1e-42a5-8f92-f4e360d892b7",
   "metadata": {},
   "outputs": [],
   "source": [
    "df = temp.loc[temp['Winner']== temp['toss_winner']]"
   ]
  },
  {
   "cell_type": "code",
   "execution_count": null,
   "id": "aa40b9a0-9de3-4373-96d2-81c79ff72ba8",
   "metadata": {},
   "outputs": [],
   "source": [
    "dif = toss_winner.to_numpy()\n",
    "print(dif)\n",
    "dif = np.delete(dif,13)"
   ]
  },
  {
   "cell_type": "code",
   "execution_count": null,
   "id": "615d286e-955e-4ca5-a751-db5d7c1efc93",
   "metadata": {},
   "outputs": [],
   "source": [
    "df['Team']=dif"
   ]
  },
  {
   "cell_type": "code",
   "execution_count": null,
   "id": "aacc11a6-46c4-4f78-b733-d6cfd689315c",
   "metadata": {},
   "outputs": [],
   "source": [
    "df = df.drop(columns=['Winner'])"
   ]
  },
  {
   "cell_type": "code",
   "execution_count": null,
   "id": "5c6bbef8-bab9-47e3-b333-4b36d9fc27bd",
   "metadata": {},
   "outputs": [],
   "source": [
    "df.columns=['Team','Win+Toss','Toss']"
   ]
  },
  {
   "cell_type": "code",
   "execution_count": null,
   "id": "d6d83964-3e8d-4cb1-8050-8db2ab274908",
   "metadata": {},
   "outputs": [],
   "source": [
    "tem= percentage.to_numpy()"
   ]
  },
  {
   "cell_type": "code",
   "execution_count": null,
   "id": "4ad9e4ed-fc07-41ad-8933-d9ef1809c751",
   "metadata": {},
   "outputs": [],
   "source": [
    "df['%(win+toss)']=(df['Win+Toss']/df['Toss'])*100"
   ]
  },
  {
   "cell_type": "code",
   "execution_count": null,
   "id": "abdf0dad-9265-48e7-9722-5045c82a52f6",
   "metadata": {},
   "outputs": [],
   "source": [
    "tem = percentage.to_numpy()\n",
    "toss = np.delete(tem,13)"
   ]
  },
  {
   "cell_type": "code",
   "execution_count": null,
   "id": "eeed7226-ab2b-4e96-a214-d38ed638d100",
   "metadata": {},
   "outputs": [],
   "source": [
    "df['total_matches']=total_matches.to_numpy()"
   ]
  },
  {
   "cell_type": "code",
   "execution_count": null,
   "id": "74eff0ae-aa19-4a3f-9475-bf40e33353e0",
   "metadata": {},
   "outputs": [],
   "source": [
    "df['%(win+toss)/total']=(df['Win+Toss']/df['total_matches'])*100"
   ]
  },
  {
   "cell_type": "code",
   "execution_count": null,
   "id": "3127af4b-71ae-4aec-8d02-61a28afa1913",
   "metadata": {},
   "outputs": [],
   "source": [
    "df.head()"
   ]
  },
  {
   "cell_type": "code",
   "execution_count": null,
   "id": "fde51650-6631-4488-b219-29df226b14f7",
   "metadata": {},
   "outputs": [],
   "source": [
    "ax = sns.barplot(x=df['Team'],y=df['Win+Toss']).set_xticklabels(df['Team'],rotation=90)"
   ]
  },
  {
   "cell_type": "code",
   "execution_count": null,
   "id": "c4f74de2-8dbb-49e0-b562-6bf4c46b6307",
   "metadata": {},
   "outputs": [],
   "source": [
    "ax = sns.barplot(x=df['Team'],y=df['%(win+toss)/total']).set_xticklabels(df['Team'],rotation=90)"
   ]
  },
  {
   "cell_type": "code",
   "execution_count": null,
   "id": "d67fc7d4-629b-4c42-ac22-d39654b4a480",
   "metadata": {},
   "outputs": [],
   "source": [
    "#  names of top ten batsman by total runs accumulated across all the seasons\n",
    "# output should be stored in a list"
   ]
  },
  {
   "cell_type": "code",
   "execution_count": null,
   "id": "af2e8c37-613c-420e-a245-1078d14a80f2",
   "metadata": {},
   "outputs": [],
   "source": [
    "batsman.head(10)"
   ]
  },
  {
   "cell_type": "code",
   "execution_count": null,
   "id": "04468aa3-27cb-4f5d-8018-124c8c73a6b3",
   "metadata": {},
   "outputs": [],
   "source": [
    "batsmen = batting['R'].groupby(batting['batsmen']).sum()"
   ]
  },
  {
   "cell_type": "code",
   "execution_count": null,
   "id": "65bb7267-eca0-4f84-9feb-faa29c94f9e2",
   "metadata": {},
   "outputs": [],
   "source": [
    "batsman=batsmen.reset_index()\n"
   ]
  },
  {
   "cell_type": "code",
   "execution_count": null,
   "id": "64f52875-020a-437a-b339-dd8dc7d23345",
   "metadata": {},
   "outputs": [],
   "source": [
    "batsman.sort_values(['R'],axis=0, ascending=False,inplace = True)"
   ]
  },
  {
   "cell_type": "code",
   "execution_count": null,
   "id": "3ccf53a5-c962-47d7-beb7-88be0d749902",
   "metadata": {},
   "outputs": [],
   "source": [
    "batsman.head(10)"
   ]
  },
  {
   "cell_type": "code",
   "execution_count": null,
   "id": "bae9ab6a-0228-477b-8c64-65be28516989",
   "metadata": {},
   "outputs": [],
   "source": [
    "# visulaize the runs made vs balls faced in a jointplot. do thuis for all  the batsman who batted in the \\ \n",
    "# IPL season 2017"
   ]
  },
  {
   "cell_type": "code",
   "execution_count": null,
   "id": "a00d083f-a3f1-4ba9-a3ad-3e2644dd4990",
   "metadata": {},
   "outputs": [],
   "source": [
    "print(batting)\n",
    "df = batting\n",
    "dt=df.match_date\n",
    "col=list()\n",
    "for i in dt:\n",
    "    i = str(i)\n",
    "    temp = i.split('-')\n",
    "    col.append(temp[0])\n",
    "df['year'] = col"
   ]
  },
  {
   "cell_type": "code",
   "execution_count": null,
   "id": "2c1b6b84-071e-4386-9e46-44ba58448cf9",
   "metadata": {},
   "outputs": [],
   "source": [
    "df = df[df['year']=='2017']\n",
    "df.head()\n"
   ]
  },
  {
   "cell_type": "code",
   "execution_count": null,
   "id": "dbe067ba-fd78-4323-ac84-00aa79bf870b",
   "metadata": {},
   "outputs": [],
   "source": [
    "sns.jointplot(x='R',y='B',data=df)"
   ]
  },
  {
   "cell_type": "code",
   "execution_count": null,
   "id": "31f43993-c20c-4401-abae-5ad01ccdd962",
   "metadata": {},
   "outputs": [],
   "source": [
    "# calculated column called boundary_contribution. total runs made in (4s + 6s) /total runs scored\n",
    "# scatter plot bw boundary_contribution  and strike_rate \n",
    "# aggregate boundary_contribution by playerand list down 10 players by boundary_contribution across all seasons"
   ]
  },
  {
   "cell_type": "code",
   "execution_count": 10,
   "id": "f0e5a561-e71e-4405-ba33-eb8bf8d0cda4",
   "metadata": {},
   "outputs": [
    {
     "data": {
      "text/html": [
       "<div>\n",
       "<style scoped>\n",
       "    .dataframe tbody tr th:only-of-type {\n",
       "        vertical-align: middle;\n",
       "    }\n",
       "\n",
       "    .dataframe tbody tr th {\n",
       "        vertical-align: top;\n",
       "    }\n",
       "\n",
       "    .dataframe thead th {\n",
       "        text-align: right;\n",
       "    }\n",
       "</style>\n",
       "<table border=\"1\" class=\"dataframe\">\n",
       "  <thead>\n",
       "    <tr style=\"text-align: right;\">\n",
       "      <th></th>\n",
       "      <th>match_no</th>\n",
       "      <th>team_1</th>\n",
       "      <th>team_2</th>\n",
       "      <th>batsmen</th>\n",
       "      <th>wicket_status</th>\n",
       "      <th>R</th>\n",
       "      <th>B</th>\n",
       "      <th>M</th>\n",
       "      <th>fours</th>\n",
       "      <th>sixes</th>\n",
       "      <th>SR</th>\n",
       "      <th>special_role</th>\n",
       "      <th>dismissal_mode</th>\n",
       "      <th>bowler_name</th>\n",
       "      <th>fielder</th>\n",
       "      <th>is_fielder_involved</th>\n",
       "      <th>match_date</th>\n",
       "    </tr>\n",
       "  </thead>\n",
       "  <tbody>\n",
       "    <tr>\n",
       "      <th>0</th>\n",
       "      <td>1</td>\n",
       "      <td>Mumbai Indians</td>\n",
       "      <td>Chennai Super Kings</td>\n",
       "      <td>ST Jayasuriya</td>\n",
       "      <td>c Hayden b Thushara</td>\n",
       "      <td>26.0</td>\n",
       "      <td>20.0</td>\n",
       "      <td>0.0</td>\n",
       "      <td>5.0</td>\n",
       "      <td>0.0</td>\n",
       "      <td>130.00</td>\n",
       "      <td>normal player</td>\n",
       "      <td>caught</td>\n",
       "      <td>Thushara</td>\n",
       "      <td>Hayden</td>\n",
       "      <td>1</td>\n",
       "      <td>2009-04-18</td>\n",
       "    </tr>\n",
       "    <tr>\n",
       "      <th>1</th>\n",
       "      <td>1</td>\n",
       "      <td>Mumbai Indians</td>\n",
       "      <td>Chennai Super Kings</td>\n",
       "      <td>SR Tendulkar</td>\n",
       "      <td>not out</td>\n",
       "      <td>59.0</td>\n",
       "      <td>49.0</td>\n",
       "      <td>0.0</td>\n",
       "      <td>7.0</td>\n",
       "      <td>0.0</td>\n",
       "      <td>120.40</td>\n",
       "      <td>captain</td>\n",
       "      <td>not out</td>\n",
       "      <td>no bowler</td>\n",
       "      <td>no fielder</td>\n",
       "      <td>0</td>\n",
       "      <td>2009-04-18</td>\n",
       "    </tr>\n",
       "    <tr>\n",
       "      <th>2</th>\n",
       "      <td>1</td>\n",
       "      <td>Mumbai Indians</td>\n",
       "      <td>Chennai Super Kings</td>\n",
       "      <td>S Dhawan</td>\n",
       "      <td>c Dhoni b Gony</td>\n",
       "      <td>22.0</td>\n",
       "      <td>21.0</td>\n",
       "      <td>0.0</td>\n",
       "      <td>2.0</td>\n",
       "      <td>0.0</td>\n",
       "      <td>104.76</td>\n",
       "      <td>normal player</td>\n",
       "      <td>caught</td>\n",
       "      <td>Gony</td>\n",
       "      <td>Dhoni</td>\n",
       "      <td>1</td>\n",
       "      <td>2009-04-18</td>\n",
       "    </tr>\n",
       "    <tr>\n",
       "      <th>3</th>\n",
       "      <td>1</td>\n",
       "      <td>Mumbai Indians</td>\n",
       "      <td>Chennai Super Kings</td>\n",
       "      <td>JP Duminy</td>\n",
       "      <td>c &amp; b Gony</td>\n",
       "      <td>9.0</td>\n",
       "      <td>7.0</td>\n",
       "      <td>0.0</td>\n",
       "      <td>1.0</td>\n",
       "      <td>0.0</td>\n",
       "      <td>128.57</td>\n",
       "      <td>normal player</td>\n",
       "      <td>caught</td>\n",
       "      <td>Gony</td>\n",
       "      <td>Gony</td>\n",
       "      <td>1</td>\n",
       "      <td>2009-04-18</td>\n",
       "    </tr>\n",
       "    <tr>\n",
       "      <th>4</th>\n",
       "      <td>1</td>\n",
       "      <td>Mumbai Indians</td>\n",
       "      <td>Chennai Super Kings</td>\n",
       "      <td>DJ Bravo</td>\n",
       "      <td>c Hayden b Joginder Sharma</td>\n",
       "      <td>5.0</td>\n",
       "      <td>4.0</td>\n",
       "      <td>0.0</td>\n",
       "      <td>1.0</td>\n",
       "      <td>0.0</td>\n",
       "      <td>125.00</td>\n",
       "      <td>normal player</td>\n",
       "      <td>caught</td>\n",
       "      <td>Joginder Sharma</td>\n",
       "      <td>Hayden</td>\n",
       "      <td>1</td>\n",
       "      <td>2009-04-18</td>\n",
       "    </tr>\n",
       "  </tbody>\n",
       "</table>\n",
       "</div>"
      ],
      "text/plain": [
       "  match_no          team_1               team_2        batsmen  \\\n",
       "0        1  Mumbai Indians  Chennai Super Kings  ST Jayasuriya   \n",
       "1        1  Mumbai Indians  Chennai Super Kings   SR Tendulkar   \n",
       "2        1  Mumbai Indians  Chennai Super Kings       S Dhawan   \n",
       "3        1  Mumbai Indians  Chennai Super Kings      JP Duminy   \n",
       "4        1  Mumbai Indians  Chennai Super Kings       DJ Bravo   \n",
       "\n",
       "                wicket_status     R     B    M  fours  sixes      SR  \\\n",
       "0         c Hayden b Thushara  26.0  20.0  0.0    5.0    0.0  130.00   \n",
       "1                     not out  59.0  49.0  0.0    7.0    0.0  120.40   \n",
       "2              c Dhoni b Gony  22.0  21.0  0.0    2.0    0.0  104.76   \n",
       "3                  c & b Gony   9.0   7.0  0.0    1.0    0.0  128.57   \n",
       "4  c Hayden b Joginder Sharma   5.0   4.0  0.0    1.0    0.0  125.00   \n",
       "\n",
       "    special_role dismissal_mode      bowler_name     fielder  \\\n",
       "0  normal player         caught         Thushara      Hayden   \n",
       "1        captain        not out        no bowler  no fielder   \n",
       "2  normal player         caught             Gony       Dhoni   \n",
       "3  normal player         caught             Gony        Gony   \n",
       "4  normal player         caught  Joginder Sharma      Hayden   \n",
       "\n",
       "   is_fielder_involved  match_date  \n",
       "0                    1  2009-04-18  \n",
       "1                    0  2009-04-18  \n",
       "2                    1  2009-04-18  \n",
       "3                    1  2009-04-18  \n",
       "4                    1  2009-04-18  "
      ]
     },
     "execution_count": 10,
     "metadata": {},
     "output_type": "execute_result"
    }
   ],
   "source": [
    "batting.head()"
   ]
  },
  {
   "cell_type": "code",
   "execution_count": 18,
   "id": "26f28a1a-f797-4b85-8b04-1d8139d4aefe",
   "metadata": {},
   "outputs": [
    {
     "data": {
      "text/html": [
       "<div>\n",
       "<style scoped>\n",
       "    .dataframe tbody tr th:only-of-type {\n",
       "        vertical-align: middle;\n",
       "    }\n",
       "\n",
       "    .dataframe tbody tr th {\n",
       "        vertical-align: top;\n",
       "    }\n",
       "\n",
       "    .dataframe thead th {\n",
       "        text-align: right;\n",
       "    }\n",
       "</style>\n",
       "<table border=\"1\" class=\"dataframe\">\n",
       "  <thead>\n",
       "    <tr style=\"text-align: right;\">\n",
       "      <th></th>\n",
       "      <th>match_no</th>\n",
       "      <th>team_1</th>\n",
       "      <th>team_2</th>\n",
       "      <th>batsmen</th>\n",
       "      <th>wicket_status</th>\n",
       "      <th>R</th>\n",
       "      <th>B</th>\n",
       "      <th>M</th>\n",
       "      <th>fours</th>\n",
       "      <th>sixes</th>\n",
       "      <th>SR</th>\n",
       "      <th>special_role</th>\n",
       "      <th>dismissal_mode</th>\n",
       "      <th>bowler_name</th>\n",
       "      <th>fielder</th>\n",
       "      <th>is_fielder_involved</th>\n",
       "      <th>match_date</th>\n",
       "      <th>boundary_contribution</th>\n",
       "    </tr>\n",
       "  </thead>\n",
       "  <tbody>\n",
       "    <tr>\n",
       "      <th>0</th>\n",
       "      <td>1</td>\n",
       "      <td>Mumbai Indians</td>\n",
       "      <td>Chennai Super Kings</td>\n",
       "      <td>ST Jayasuriya</td>\n",
       "      <td>c Hayden b Thushara</td>\n",
       "      <td>26.0</td>\n",
       "      <td>20.0</td>\n",
       "      <td>0.0</td>\n",
       "      <td>5.0</td>\n",
       "      <td>0.0</td>\n",
       "      <td>130.00</td>\n",
       "      <td>normal player</td>\n",
       "      <td>caught</td>\n",
       "      <td>Thushara</td>\n",
       "      <td>Hayden</td>\n",
       "      <td>1</td>\n",
       "      <td>2009-04-18</td>\n",
       "      <td>0.192308</td>\n",
       "    </tr>\n",
       "    <tr>\n",
       "      <th>1</th>\n",
       "      <td>1</td>\n",
       "      <td>Mumbai Indians</td>\n",
       "      <td>Chennai Super Kings</td>\n",
       "      <td>SR Tendulkar</td>\n",
       "      <td>not out</td>\n",
       "      <td>59.0</td>\n",
       "      <td>49.0</td>\n",
       "      <td>0.0</td>\n",
       "      <td>7.0</td>\n",
       "      <td>0.0</td>\n",
       "      <td>120.40</td>\n",
       "      <td>captain</td>\n",
       "      <td>not out</td>\n",
       "      <td>no bowler</td>\n",
       "      <td>no fielder</td>\n",
       "      <td>0</td>\n",
       "      <td>2009-04-18</td>\n",
       "      <td>0.118644</td>\n",
       "    </tr>\n",
       "    <tr>\n",
       "      <th>2</th>\n",
       "      <td>1</td>\n",
       "      <td>Mumbai Indians</td>\n",
       "      <td>Chennai Super Kings</td>\n",
       "      <td>S Dhawan</td>\n",
       "      <td>c Dhoni b Gony</td>\n",
       "      <td>22.0</td>\n",
       "      <td>21.0</td>\n",
       "      <td>0.0</td>\n",
       "      <td>2.0</td>\n",
       "      <td>0.0</td>\n",
       "      <td>104.76</td>\n",
       "      <td>normal player</td>\n",
       "      <td>caught</td>\n",
       "      <td>Gony</td>\n",
       "      <td>Dhoni</td>\n",
       "      <td>1</td>\n",
       "      <td>2009-04-18</td>\n",
       "      <td>0.090909</td>\n",
       "    </tr>\n",
       "    <tr>\n",
       "      <th>3</th>\n",
       "      <td>1</td>\n",
       "      <td>Mumbai Indians</td>\n",
       "      <td>Chennai Super Kings</td>\n",
       "      <td>JP Duminy</td>\n",
       "      <td>c &amp; b Gony</td>\n",
       "      <td>9.0</td>\n",
       "      <td>7.0</td>\n",
       "      <td>0.0</td>\n",
       "      <td>1.0</td>\n",
       "      <td>0.0</td>\n",
       "      <td>128.57</td>\n",
       "      <td>normal player</td>\n",
       "      <td>caught</td>\n",
       "      <td>Gony</td>\n",
       "      <td>Gony</td>\n",
       "      <td>1</td>\n",
       "      <td>2009-04-18</td>\n",
       "      <td>0.111111</td>\n",
       "    </tr>\n",
       "    <tr>\n",
       "      <th>4</th>\n",
       "      <td>1</td>\n",
       "      <td>Mumbai Indians</td>\n",
       "      <td>Chennai Super Kings</td>\n",
       "      <td>DJ Bravo</td>\n",
       "      <td>c Hayden b Joginder Sharma</td>\n",
       "      <td>5.0</td>\n",
       "      <td>4.0</td>\n",
       "      <td>0.0</td>\n",
       "      <td>1.0</td>\n",
       "      <td>0.0</td>\n",
       "      <td>125.00</td>\n",
       "      <td>normal player</td>\n",
       "      <td>caught</td>\n",
       "      <td>Joginder Sharma</td>\n",
       "      <td>Hayden</td>\n",
       "      <td>1</td>\n",
       "      <td>2009-04-18</td>\n",
       "      <td>0.200000</td>\n",
       "    </tr>\n",
       "  </tbody>\n",
       "</table>\n",
       "</div>"
      ],
      "text/plain": [
       "  match_no          team_1               team_2        batsmen  \\\n",
       "0        1  Mumbai Indians  Chennai Super Kings  ST Jayasuriya   \n",
       "1        1  Mumbai Indians  Chennai Super Kings   SR Tendulkar   \n",
       "2        1  Mumbai Indians  Chennai Super Kings       S Dhawan   \n",
       "3        1  Mumbai Indians  Chennai Super Kings      JP Duminy   \n",
       "4        1  Mumbai Indians  Chennai Super Kings       DJ Bravo   \n",
       "\n",
       "                wicket_status     R     B    M  fours  sixes      SR  \\\n",
       "0         c Hayden b Thushara  26.0  20.0  0.0    5.0    0.0  130.00   \n",
       "1                     not out  59.0  49.0  0.0    7.0    0.0  120.40   \n",
       "2              c Dhoni b Gony  22.0  21.0  0.0    2.0    0.0  104.76   \n",
       "3                  c & b Gony   9.0   7.0  0.0    1.0    0.0  128.57   \n",
       "4  c Hayden b Joginder Sharma   5.0   4.0  0.0    1.0    0.0  125.00   \n",
       "\n",
       "    special_role dismissal_mode      bowler_name     fielder  \\\n",
       "0  normal player         caught         Thushara      Hayden   \n",
       "1        captain        not out        no bowler  no fielder   \n",
       "2  normal player         caught             Gony       Dhoni   \n",
       "3  normal player         caught             Gony        Gony   \n",
       "4  normal player         caught  Joginder Sharma      Hayden   \n",
       "\n",
       "   is_fielder_involved  match_date  boundary_contribution  \n",
       "0                    1  2009-04-18               0.192308  \n",
       "1                    0  2009-04-18               0.118644  \n",
       "2                    1  2009-04-18               0.090909  \n",
       "3                    1  2009-04-18               0.111111  \n",
       "4                    1  2009-04-18               0.200000  "
      ]
     },
     "execution_count": 18,
     "metadata": {},
     "output_type": "execute_result"
    }
   ],
   "source": [
    "batting['boundary_contribution'] = (batting['fours']+batting['sixes'])/batting['R']\n",
    "batting.head()"
   ]
  },
  {
   "cell_type": "code",
   "execution_count": 20,
   "id": "007d434a-4380-4cb5-99bf-bf0a2a53a87b",
   "metadata": {},
   "outputs": [
    {
     "data": {
      "image/png": "[encoded data removed]",
      "text/plain": [
       "<Figure size 640x480 with 1 Axes>"
      ]
     },
     "metadata": {},
     "output_type": "display_data"
    }
   ],
   "source": [
    "ax = sns.scatterplot(x='boundary_contribution',y ='SR',data = batting,color='black')"
   ]
  },
  {
   "cell_type": "code",
   "execution_count": 22,
   "id": "d28b6312-561c-4e0d-a0a2-a82529948253",
   "metadata": {},
   "outputs": [],
   "source": [
    "boundary_contribution = batting['boundary_contribution'].groupby(batting['batsmen']).sum()"
   ]
  },
  {
   "cell_type": "code",
   "execution_count": 24,
   "id": "a6dcbfba-1119-4039-bdcf-410aac5eb95b",
   "metadata": {},
   "outputs": [],
   "source": [
    "boundary_contribution=boundary_contribution.reset_index()"
   ]
  },
  {
   "cell_type": "code",
   "execution_count": 25,
   "id": "dff5f916-298a-4800-a30e-0006db56a9fd",
   "metadata": {},
   "outputs": [],
   "source": [
    "boundary_contribution.sort_values(['boundary_contribution'],axis=0,ascending=False,inplace=True)"
   ]
  },
  {
   "cell_type": "code",
   "execution_count": 26,
   "id": "d9e456c3-3183-4e12-b26a-abe25ca69989",
   "metadata": {},
   "outputs": [
    {
     "data": {
      "text/html": [
       "<div>\n",
       "<style scoped>\n",
       "    .dataframe tbody tr th:only-of-type {\n",
       "        vertical-align: middle;\n",
       "    }\n",
       "\n",
       "    .dataframe tbody tr th {\n",
       "        vertical-align: top;\n",
       "    }\n",
       "\n",
       "    .dataframe thead th {\n",
       "        text-align: right;\n",
       "    }\n",
       "</style>\n",
       "<table border=\"1\" class=\"dataframe\">\n",
       "  <thead>\n",
       "    <tr style=\"text-align: right;\">\n",
       "      <th></th>\n",
       "      <th>batsmen</th>\n",
       "      <th>boundary_contribution</th>\n",
       "    </tr>\n",
       "  </thead>\n",
       "  <tbody>\n",
       "    <tr>\n",
       "      <th>424</th>\n",
       "      <td>SK Raina</td>\n",
       "      <td>20.137846</td>\n",
       "    </tr>\n",
       "    <tr>\n",
       "      <th>385</th>\n",
       "      <td>RV Uthappa</td>\n",
       "      <td>19.642338</td>\n",
       "    </tr>\n",
       "    <tr>\n",
       "      <th>393</th>\n",
       "      <td>S Dhawan</td>\n",
       "      <td>19.483546</td>\n",
       "    </tr>\n",
       "    <tr>\n",
       "      <th>487</th>\n",
       "      <td>V Kohli</td>\n",
       "      <td>18.559622</td>\n",
       "    </tr>\n",
       "    <tr>\n",
       "      <th>366</th>\n",
       "      <td>RG Sharma</td>\n",
       "      <td>18.349718</td>\n",
       "    </tr>\n",
       "    <tr>\n",
       "      <th>95</th>\n",
       "      <td>CH Gayle</td>\n",
       "      <td>17.690974</td>\n",
       "    </tr>\n",
       "    <tr>\n",
       "      <th>150</th>\n",
       "      <td>G Gambhir</td>\n",
       "      <td>16.656673</td>\n",
       "    </tr>\n",
       "    <tr>\n",
       "      <th>442</th>\n",
       "      <td>SR Watson</td>\n",
       "      <td>16.126717</td>\n",
       "    </tr>\n",
       "    <tr>\n",
       "      <th>218</th>\n",
       "      <td>KD Karthik</td>\n",
       "      <td>16.010834</td>\n",
       "    </tr>\n",
       "    <tr>\n",
       "      <th>330</th>\n",
       "      <td>PA Patel</td>\n",
       "      <td>15.604900</td>\n",
       "    </tr>\n",
       "  </tbody>\n",
       "</table>\n",
       "</div>"
      ],
      "text/plain": [
       "        batsmen  boundary_contribution\n",
       "424    SK Raina              20.137846\n",
       "385  RV Uthappa              19.642338\n",
       "393    S Dhawan              19.483546\n",
       "487     V Kohli              18.559622\n",
       "366   RG Sharma              18.349718\n",
       "95     CH Gayle              17.690974\n",
       "150   G Gambhir              16.656673\n",
       "442   SR Watson              16.126717\n",
       "218  KD Karthik              16.010834\n",
       "330    PA Patel              15.604900"
      ]
     },
     "execution_count": 26,
     "metadata": {},
     "output_type": "execute_result"
    }
   ],
   "source": [
    "boundary_contribution.head(10)"
   ]
  },
  {
   "cell_type": "code",
   "execution_count": 32,
   "id": "7fd63d78-e324-4cf7-839e-833d79c1289d",
   "metadata": {},
   "outputs": [
    {
     "name": "stderr",
     "output_type": "stream",
     "text": [
      "C:\\Users\\payal\\AppData\\Local\\Temp\\ipykernel_10524\\971659591.py:2: UserWarning: set_ticklabels() should only be used with a fixed number of ticks, i.e. after set_ticks() or using a FixedLocator.\n",
      "  ['boundary_contribution']).set_xticklabels(boundary_contribution['batsmen'],rotation=90)\n"
     ]
    },
    {
     "data": {
      "image/png": "[encoded data removed]",
      "text/plain": [
       "<Figure size 640x480 with 1 Axes>"
      ]
     },
     "metadata": {},
     "output_type": "display_data"
    }
   ],
   "source": [
    "ax = sns.barplot(x=boundary_contribution['batsmen'].head(10),y=boundary_contribution\n",
    "                 ['boundary_contribution']).set_xticklabels(boundary_contribution['batsmen'],rotation=90)"
   ]
  },
  {
   "cell_type": "raw",
   "id": "afd22b73-daac-4348-9494-0e6c0ce1f15a",
   "metadata": {},
   "source": []
  },
  {
   "cell_type": "code",
   "execution_count": 29,
   "id": "403b9631-1f6b-414f-a984-848ba16f350d",
   "metadata": {},
   "outputs": [
    {
     "data": {
      "image/png": "[encoded data removed]",
      "text/plain": [
       "<Figure size 640x480 with 1 Axes>"
      ]
     },
     "metadata": {},
     "output_type": "display_data"
    }
   ],
   "source": [
    "ax = sns.barplot(x=boundary_contribution['batsmen'].head(10),y=boundary_contribution['boundary_contribution'])"
   ]
  },
  {
   "cell_type": "code",
   "execution_count": null,
   "id": "892f67b7-944d-4e9e-b3cf-53b28cb42d01",
   "metadata": {},
   "outputs": [],
   "source": []
  }
 ],
 "metadata": {
  "kernelspec": {
   "display_name": "Python 3 (ipykernel)",
   "language": "python",
   "name": "python3"
  },
  "language_info": {
   "codemirror_mode": {
    "name": "ipython",
    "version": 3
   },
   "file_extension": ".py",
   "mimetype": "text/x-python",
   "name": "python",
   "nbconvert_exporter": "python",
   "pygments_lexer": "ipython3",
   "version": "3.12.6"
  }
 },
 "nbformat": 4,
 "nbformat_minor": 5
}
